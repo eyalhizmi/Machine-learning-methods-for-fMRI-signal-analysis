{
  "cells": [
    {
      "cell_type": "markdown",
      "metadata": {
        "id": "KrEEhv4_W_mf"
      },
      "source": [
        "<p><strong><span style=\"font-size: 22px;\">Tutorial 6 - k-nearest neighbors (KNN) Algorithm Classification</span></strong></p>\n",
        "<p>At this tutorial we discuss about k-nearest neighbors (KNN) algorithm.</p>\n",
        "<p>There are 3 session:</p>\n",
        "<ol>\n",
        "    <li>&nbsp; &nbsp;Explain how KNN algorithm work</li>\n",
        "    <li>&nbsp; &nbsp;2D KNN fMRI data classification&nbsp;</li>\n",
        "    <li>&nbsp; &nbsp;High Dimension KNN &nbsp;fMRI data Classification &nbsp;</li>\n",
        "</ol>\n",
        "<p><span style=\"font-size: 18px;\">KNN algorithm</span></p>\n",
        "<p>In k-NN classifcation, the output is a class membership. An object is classied by a majority vote of its neighbors, with the object being assigned to the class most common among its k nearest neighbors (k is a positive integer, typically small).&nbsp;</p>\n",
        "<p>If k = 1, then the object is simply assigned to the class of that single nearest neighbor.</p>\n",
        "<p><span style=\"font-size: 18px;\">How KNN algorithm work? </span></p>\n",
        "<ol>\n",
        "    <li>Calculate distances - Start by calculate the distances between the gray point and all other points</li>\n",
        "    <li>Find neighbours - find the nearest neighbours by ranking points by increasing distances. the nearest neighbours (NN) of the gray point are the ones closest in dataspace.</li>\n",
        "    <li>Vote for labels - Vote on the predicted class labels based on the classes of the k nearest nieghbours. Here the labels were predicted based on the k=3 nearest neighbours. </li>\n",
        "</ol>\n",
        "\n",
        " <img src= \"images\\knn\\knn.jpg\" />"
      ]
    },
    {
      "cell_type": "markdown",
      "metadata": {
        "id": "X-zG3ZMEW_mg"
      },
      "source": [
        "2D KNN fMRI Classification "
      ]
    },
    {
      "cell_type": "markdown",
      "metadata": {
        "id": "lPznezyBW_mg"
      },
      "source": [
        " <img src= \"images\\knn\\haxby.jpg\" />\n",
        " <img src= \"images\\knn\\voxel_activite.jpg\" />"
      ]
    },
    {
      "cell_type": "markdown",
      "metadata": {
        "id": "ePBI1b0GW_mg"
      },
      "source": [
        "Preprocessing"
      ]
    },
    {
      "cell_type": "code",
      "execution_count": null,
      "metadata": {
        "id": "oDQCSJpZW_mg",
        "outputId": "3841310e-8816-4bfc-dd30-fa4315ee07ba"
      },
      "outputs": [
        {
          "data": {
            "text/plain": [
              "(1452, 577)"
            ]
          },
          "execution_count": 37,
          "metadata": {},
          "output_type": "execute_result"
        }
      ],
      "source": [
        "X.shape"
      ]
    },
    {
      "cell_type": "code",
      "execution_count": null,
      "metadata": {
        "id": "4CiDuy5qW_mh"
      },
      "outputs": [],
      "source": [
        "house_all = X[y == 'house']\n",
        "face_all = X[y == 'face']\n",
        "#categories = y.unique()\n",
        "label = np.concatenate((np.zeros(12),np.ones(12)), axis = 0)\n",
        "label_str = np.concatenate([['face']*12 , ['house']*12], axis = 0)\n"
      ]
    },
    {
      "cell_type": "code",
      "execution_count": null,
      "metadata": {
        "id": "wyZ6kt7NW_mh"
      },
      "outputs": [],
      "source": [
        "face=face_all[50:62,:]\n",
        "house=house_all[50:62,:]"
      ]
    },
    {
      "cell_type": "code",
      "execution_count": null,
      "metadata": {
        "id": "Fmb1MblhW_mh",
        "outputId": "1eb958bf-f48e-42bd-deb5-7a2379bea9e3"
      },
      "outputs": [
        {
          "data": {
            "image/png": "[encoded data removed]",
            "text/plain": [
              "<Figure size 432x288 with 1 Axes>"
            ]
          },
          "metadata": {
            "needs_background": "light"
          },
          "output_type": "display_data"
        }
      ],
      "source": [
        "vox_num_1 = 250\n",
        "vox_num_2 = 300\n",
        "voxel_1 = np.concatenate((face[:,vox_num_1], house[:,vox_num_1]), axis = 0)\n",
        "voxel_2 = np.concatenate((face[:,vox_num_2], house[:,vox_num_2]), axis = 0)\n",
        "color = np.concatenate([['r']*12 , ['g']*12], axis = 0)\n",
        "plt.scatter(voxel_1, voxel_2, c=color , cmap= 'Set1')\n",
        "plt.xlabel(\"Voxel 1\")\n",
        "plt.ylabel(\"Voxel 2\")\n",
        "# Display the plot\n",
        "plt.show()"
      ]
    },
    {
      "cell_type": "code",
      "execution_count": null,
      "metadata": {
        "id": "X6GgQxTTW_mi",
        "outputId": "b203d0b6-d2b8-42c6-c453-1cf4d08f7a0e"
      },
      "outputs": [
        {
          "data": {
            "image/png": "[encoded data removed]",
            "text/plain": [
              "<Figure size 432x288 with 1 Axes>"
            ]
          },
          "metadata": {
            "needs_background": "light"
          },
          "output_type": "display_data"
        }
      ],
      "source": [
        "observartion = 1\n",
        "test = data[observartion,:]\n",
        "color = np.concatenate([['r']*12 , ['g']*12], axis = 0)\n",
        "plt.scatter(voxel_1, voxel_2, c=color)#, cmap= 'Set1')\n",
        "plt.scatter(test[0], test[1], s=120,linewidths =2, facecolors='none', edgecolors='k')\n",
        "plt.xlabel(\"Voxel 1\")\n",
        "plt.ylabel(\"Voxel 2\")\n",
        "# Display the plot\n",
        "plt.show()\n"
      ]
    },
    {
      "cell_type": "markdown",
      "metadata": {
        "id": "3zNW0ItSW_mi"
      },
      "source": [
        "split data to train and test\n",
        "\n",
        "we want to split data to train and test. \n",
        "\n",
        "lets choose one point from the data for test variable"
      ]
    },
    {
      "cell_type": "code",
      "execution_count": null,
      "metadata": {
        "id": "rKaA9jBcW_mi"
      },
      "outputs": [],
      "source": [
        "data = np.stack([voxel_1 ,voxel_2 ], axis=1)\n",
        "test_label = label[observartion]"
      ]
    },
    {
      "cell_type": "code",
      "execution_count": null,
      "metadata": {
        "id": "7VZX2FONW_mi",
        "outputId": "70de5de7-b220-493a-dd9f-3c0a08288126"
      },
      "outputs": [
        {
          "data": {
            "text/plain": [
              "(23, 2)"
            ]
          },
          "execution_count": 167,
          "metadata": {},
          "output_type": "execute_result"
        }
      ],
      "source": [
        "# 1. Calculate distances\n",
        "train = np.delete(data,observartion, 0)\n",
        "train.shape"
      ]
    },
    {
      "cell_type": "code",
      "execution_count": null,
      "metadata": {
        "id": "vA_B6nC2W_mj"
      },
      "outputs": [],
      "source": [
        "testMatrix = np.tile(test,(23,1))\n",
        "absDiff = np.abs(train - testMatrix)\n",
        "square = np.square(absDiff)\n",
        "distance =np.sum(square,1)\n",
        "distance = np.round(distance,2)\n"
      ]
    },
    {
      "cell_type": "code",
      "execution_count": null,
      "metadata": {
        "id": "QmyrmZ6RW_mj",
        "outputId": "cf29d2af-ebd4-4886-c8f5-6c90fa086ea4"
      },
      "outputs": [
        {
          "name": "stdout",
          "output_type": "stream",
          "text": [
            "Neighbour number 1 : face\n",
            "Neighbour number 2 : face\n",
            "Neighbour number 3 : house\n",
            "Neighbour number 4 : face\n",
            "Neighbour number 5 : face\n"
          ]
        },
        {
          "data": {
            "text/plain": [
              "[None, None, None, None, None]"
            ]
          },
          "execution_count": 238,
          "metadata": {},
          "output_type": "execute_result"
        }
      ],
      "source": [
        "\n",
        "k = 5\n",
        "\n",
        "idx = np.argpartition(distance, k)\n",
        "neighborsInd = label_str[idx[:k]] \n",
        "\n",
        "[print( f'Neighbour number {i+1} : {label_}' ) for i, label_ in enumerate(label_str[idx[:k]])]\n"
      ]
    },
    {
      "cell_type": "code",
      "execution_count": null,
      "metadata": {
        "id": "qgf_fIKmW_mj",
        "outputId": "c335eadf-9c78-48e0-ecbc-205b85da8cb4"
      },
      "outputs": [
        {
          "name": "stdout",
          "output_type": "stream",
          "text": [
            "Predict Label: Face\n"
          ]
        }
      ],
      "source": [
        "#print(distance)\n",
        "face_count = np.count_nonzero(neighborsInd == 'face')\n",
        "house_count = np.count_nonzero(neighborsInd == 'house')\n",
        "\n",
        "if face_count> house_count:\n",
        "    print(\"Predict Label: Face\")\n",
        "else:\n",
        "    print(\"Predict Label: House\")"
      ]
    },
    {
      "cell_type": "markdown",
      "metadata": {
        "id": "2dVGm4sPW_mj"
      },
      "source": [
        "#2. Find neighbours \n"
      ]
    },
    {
      "cell_type": "markdown",
      "metadata": {
        "id": "oIJ5XriIW_mj"
      },
      "source": [
        "Create a Model\n",
        "\n",
        "Preprocces"
      ]
    },
    {
      "cell_type": "code",
      "execution_count": null,
      "metadata": {
        "id": "CnzKQHuUW_mj"
      },
      "outputs": [],
      "source": [
        "# mask the data\n",
        "from nilearn.input_data import NiftiMasker\n",
        "mask_filename = haxby_dataset.mask_vt[0]\n",
        "masker = NiftiMasker(mask_img=mask_filename, standardize=True, detrend=True)\n",
        "X = masker.fit_transform(func_file)\n",
        "\n",
        "# cognitive annotations\n",
        "import pandas as pd\n",
        "behavioral = pd.read_csv(haxby_dataset.session_target[0], delimiter=' ')\n",
        "y = behavioral['labels']"
      ]
    },
    {
      "cell_type": "code",
      "execution_count": null,
      "metadata": {
        "id": "F29iwpavW_mk"
      },
      "outputs": [],
      "source": [
        "from sklearn.model_selection import train_test_split\n",
        "X_train, X_test, y_train, y_test = train_test_split(X, y, test_size = 0.2, random_state = 0)  "
      ]
    },
    {
      "cell_type": "code",
      "execution_count": null,
      "metadata": {
        "id": "Chzxp4v6W_mk"
      },
      "outputs": [],
      "source": [
        "from sklearn.neighbors import KNeighborsClassifier\n",
        "knn_model = KNeighborsClassifier(n_neighbors =3 , weights =  'distance' , algorithm = 'brute')\n",
        "\n",
        "knn_model.fit(X_train, y_train)\n"
      ]
    },
    {
      "cell_type": "code",
      "execution_count": null,
      "metadata": {
        "id": "G1uHD4jSW_mk"
      },
      "outputs": [],
      "source": [
        "from sklearn.metrics import classification_report\n",
        "y_train_pred = knn_model.predict(X_train)\n",
        "print(classification_report(y_train, y_train_pred))"
      ]
    },
    {
      "cell_type": "code",
      "execution_count": null,
      "metadata": {
        "id": "4wVPoMA5W_mk"
      },
      "outputs": [],
      "source": [
        "y_test_pred = knn_model.predict(X_test)\n",
        "print(classification_report(y_test, y_test_pred))"
      ]
    },
    {
      "cell_type": "code",
      "execution_count": null,
      "metadata": {
        "id": "rNiAyYewW_mk"
      },
      "outputs": [],
      "source": [
        "import sys\n",
        "import numpy as np\n",
        "from sklearn.metrics import confusion_matrix\n",
        "import seaborn as sn\n",
        "sys.path.append('../src')\n",
        "cm_svm = confusion_matrix(y_test, y_test_pred)\n",
        "model_conf_matrix = cm_svm.astype('float') / cm_svm.sum(axis = 1)[:, np.newaxis]\n",
        "\n"
      ]
    },
    {
      "cell_type": "code",
      "execution_count": null,
      "metadata": {
        "id": "lUPuiQ3kW_ml"
      },
      "outputs": [],
      "source": [
        "df_cm = pd.DataFrame(model_conf_matrix, index =categories,\n",
        "                  columns = categories)\n",
        "plt.figure(figsize = (10,7))\n",
        "sn.heatmap(df_cm, annot=True)"
      ]
    },
    {
      "cell_type": "code",
      "execution_count": null,
      "metadata": {
        "id": "GOfZAckyW_ml"
      },
      "outputs": [],
      "source": []
    }
  ],
  "metadata": {
    "kernelspec": {
      "display_name": "Python 3.9.13 ('fmri-HIT')",
      "language": "python",
      "name": "python3"
    },
    "language_info": {
      "codemirror_mode": {
        "name": "ipython",
        "version": 3
      },
      "file_extension": ".py",
      "mimetype": "text/x-python",
      "name": "python",
      "nbconvert_exporter": "python",
      "pygments_lexer": "ipython3",
      "version": "3.9.13"
    },
    "orig_nbformat": 4,
    "vscode": {
      "interpreter": {
        "hash": "4bea02da7865370603680ffe2f59814b843f6fb702574abf1f9b894b258b2208"
      }
    },
    "colab": {
      "provenance": []
    }
  },
  "nbformat": 4,
  "nbformat_minor": 0
}