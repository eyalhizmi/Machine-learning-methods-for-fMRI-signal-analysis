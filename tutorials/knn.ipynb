{
  "cells": [
    {
      "cell_type": "markdown",
      "metadata": {
        "id": "KrEEhv4_W_mf"
      },
      "source": [
        "<p><strong><span style=\"font-size: 22px;\">Tutorial 6 - k-nearest neighbors (KNN) Algorithm Classification</span></strong></p>\n",
        "<p>At this tutorial we discuss about k-nearest neighbors (KNN) algorithm.</p>\n",
        "<p>There are 3 session:</p>\n",
        "<ol>\n",
        "    <li>&nbsp; &nbsp;Explain how KNN algorithm work</li>\n",
        "    <li>&nbsp; &nbsp;2D KNN fMRI data classification&nbsp;</li>\n",
        "    <li>&nbsp; &nbsp;High Dimension KNN &nbsp;fMRI data Classification &nbsp;</li>\n",
        "</ol>\n",
        "<p><span style=\"font-size: 18px;\">KNN algorithm</span></p>\n",
        "<p>In k-NN classifcation, the output is a class membership. An object is classied by a majority vote of its neighbors, with the object being assigned to the class most common among its k nearest neighbors (k is a positive integer, typically small).&nbsp;</p>\n",
        "<p>If k = 1, then the object is simply assigned to the class of that single nearest neighbor.</p>\n",
        "<p><span style=\"font-size: 18px;\">How KNN algorithm work? </span></p>\n",
        "<ol>\n",
        "    <li>Calculate distances - Start by calculate the distances between the gray point and all other points</li>\n",
        "    <li>Find neighbours - find the nearest neighbours by ranking points by increasing distances. the nearest neighbours (NN) of the gray point are the ones closest in dataspace.</li>\n",
        "    <li>Vote for labels - Vote on the predicted class labels based on the classes of the k nearest nieghbours. Here the labels were predicted based on the k=3 nearest neighbours. </li>\n",
        "</ol>\n",
        "\n",
        " <img src= \"images\\knn\\knn.jpg\" />"
      ]
    },
    {
      "cell_type": "markdown",
      "metadata": {
        "id": "X-zG3ZMEW_mg"
      },
      "source": [
        "2D KNN fMRI Classification "
      ]
    },
    {
      "cell_type": "markdown",
      "metadata": {
        "id": "lPznezyBW_mg"
      },
      "source": [
        " <img src= \"images\\knn\\haxby.jpg\" />\n",
        " <img src= \"images\\knn\\voxel_activite.jpg\" />"
      ]
    },
    {
      "cell_type": "markdown",
      "metadata": {
        "id": "ePBI1b0GW_mg"
      },
      "source": [
        "Download Haxby dataset"
      ]
    },
    {
      "cell_type": "code",
      "source": [
        "!pip install nilearn"
      ],
      "metadata": {
        "id": "_9yMiD3cgroi",
        "outputId": "00661823-f405-421b-dd27-fd8ae3bdb8f7",
        "colab": {
          "base_uri": "https://localhost:8080/"
        }
      },
      "execution_count": 1,
      "outputs": [
        {
          "output_type": "stream",
          "name": "stdout",
          "text": [
            "Looking in indexes: https://pypi.org/simple, https://us-python.pkg.dev/colab-wheels/public/simple/\n",
            "Requirement already satisfied: nilearn in /usr/local/lib/python3.7/dist-packages (0.9.2)\n",
            "Requirement already satisfied: scikit-learn>=0.22 in /usr/local/lib/python3.7/dist-packages (from nilearn) (1.0.2)\n",
            "Requirement already satisfied: lxml in /usr/local/lib/python3.7/dist-packages (from nilearn) (4.9.1)\n",
            "Requirement already satisfied: nibabel>=3.0.0 in /usr/local/lib/python3.7/dist-packages (from nilearn) (3.0.2)\n",
            "Requirement already satisfied: requests>=2 in /usr/local/lib/python3.7/dist-packages (from nilearn) (2.23.0)\n",
            "Requirement already satisfied: pandas>=1.0 in /usr/local/lib/python3.7/dist-packages (from nilearn) (1.3.5)\n",
            "Requirement already satisfied: scipy>=1.5 in /usr/local/lib/python3.7/dist-packages (from nilearn) (1.7.3)\n",
            "Requirement already satisfied: numpy>=1.18 in /usr/local/lib/python3.7/dist-packages (from nilearn) (1.21.6)\n",
            "Requirement already satisfied: joblib>=0.15 in /usr/local/lib/python3.7/dist-packages (from nilearn) (1.2.0)\n",
            "Requirement already satisfied: pytz>=2017.3 in /usr/local/lib/python3.7/dist-packages (from pandas>=1.0->nilearn) (2022.4)\n",
            "Requirement already satisfied: python-dateutil>=2.7.3 in /usr/local/lib/python3.7/dist-packages (from pandas>=1.0->nilearn) (2.8.2)\n",
            "Requirement already satisfied: six>=1.5 in /usr/local/lib/python3.7/dist-packages (from python-dateutil>=2.7.3->pandas>=1.0->nilearn) (1.15.0)\n",
            "Requirement already satisfied: chardet<4,>=3.0.2 in /usr/local/lib/python3.7/dist-packages (from requests>=2->nilearn) (3.0.4)\n",
            "Requirement already satisfied: certifi>=2017.4.17 in /usr/local/lib/python3.7/dist-packages (from requests>=2->nilearn) (2022.9.24)\n",
            "Requirement already satisfied: urllib3!=1.25.0,!=1.25.1,<1.26,>=1.21.1 in /usr/local/lib/python3.7/dist-packages (from requests>=2->nilearn) (1.24.3)\n",
            "Requirement already satisfied: idna<3,>=2.5 in /usr/local/lib/python3.7/dist-packages (from requests>=2->nilearn) (2.10)\n",
            "Requirement already satisfied: threadpoolctl>=2.0.0 in /usr/local/lib/python3.7/dist-packages (from scikit-learn>=0.22->nilearn) (3.1.0)\n"
          ]
        }
      ]
    },
    {
      "cell_type": "code",
      "source": [
        "import os\n",
        "from nilearn import datasets\n",
        "from nilearn.input_data import NiftiMasker\n",
        "import numpy as np\n",
        "import matplotlib.pyplot as plt "
      ],
      "metadata": {
        "id": "iqgG2afSh2ck"
      },
      "execution_count": 17,
      "outputs": []
    },
    {
      "cell_type": "code",
      "execution_count": 12,
      "metadata": {
        "id": "oDQCSJpZW_mg",
        "outputId": "56384f84-6967-4d43-fe1c-453c24e2a6c0",
        "colab": {
          "base_uri": "https://localhost:8080/"
        }
      },
      "outputs": [
        {
          "output_type": "stream",
          "name": "stderr",
          "text": [
            "/usr/local/lib/python3.7/dist-packages/nilearn/image/resampling.py:453: UserWarning: The provided image has no sform in its header. Please check the provided file. Results may not be as expected.\n",
            "  warnings.warn(\"The provided image has no sform in its header. \"\n"
          ]
        },
        {
          "output_type": "stream",
          "name": "stdout",
          "text": [
            "(1452, 577)\n"
          ]
        }
      ],
      "source": [
        "\n",
        "\n",
        "data_dir =  os.path.join('..', 'data')\n",
        "subject_number = 2 \n",
        "fetch_stimuli = True\n",
        "haxby_dataset = datasets.fetch_haxby(data_dir=data_dir, subjects=subject_number, fetch_stimuli=fetch_stimuli ) \n",
        "\n",
        "\n",
        "mask_filename = haxby_dataset.mask_vt[0]\n",
        "func_file = haxby_dataset.func[0]\n",
        "masker = NiftiMasker(mask_img=mask_filename, standardize=True, detrend=True)\n",
        "# Selecting data\n",
        "X = masker.fit_transform(func_file)\n",
        "print(X.shape)"
      ]
    },
    {
      "cell_type": "code",
      "source": [
        "import pandas as pd\n",
        "behavioral = pd.read_csv(haxby_dataset.session_target[0], delimiter=' ')\n",
        "display(behavioral.iloc[0:20])"
      ],
      "metadata": {
        "id": "EQFqw_1HhFGk",
        "outputId": "57a8a040-c8fe-4d40-e212-a9d0964c39c1",
        "colab": {
          "base_uri": "https://localhost:8080/",
          "height": 676
        }
      },
      "execution_count": 13,
      "outputs": [
        {
          "output_type": "display_data",
          "data": {
            "text/plain": [
              "      labels  chunks\n",
              "0       rest       0\n",
              "1       rest       0\n",
              "2       rest       0\n",
              "3       rest       0\n",
              "4       rest       0\n",
              "5       rest       0\n",
              "6   scissors       0\n",
              "7   scissors       0\n",
              "8   scissors       0\n",
              "9   scissors       0\n",
              "10  scissors       0\n",
              "11  scissors       0\n",
              "12  scissors       0\n",
              "13  scissors       0\n",
              "14  scissors       0\n",
              "15      rest       0\n",
              "16      rest       0\n",
              "17      rest       0\n",
              "18      rest       0\n",
              "19      rest       0"
            ],
            "text/html": [
              "\n",
              "  <div id=\"df-0faeeec1-f215-4be8-bbc1-92e338d3c795\">\n",
              "    <div class=\"colab-df-container\">\n",
              "      <div>\n",
              "<style scoped>\n",
              "    .dataframe tbody tr th:only-of-type {\n",
              "        vertical-align: middle;\n",
              "    }\n",
              "\n",
              "    .dataframe tbody tr th {\n",
              "        vertical-align: top;\n",
              "    }\n",
              "\n",
              "    .dataframe thead th {\n",
              "        text-align: right;\n",
              "    }\n",
              "</style>\n",
              "<table border=\"1\" class=\"dataframe\">\n",
              "  <thead>\n",
              "    <tr style=\"text-align: right;\">\n",
              "      <th></th>\n",
              "      <th>labels</th>\n",
              "      <th>chunks</th>\n",
              "    </tr>\n",
              "  </thead>\n",
              "  <tbody>\n",
              "    <tr>\n",
              "      <th>0</th>\n",
              "      <td>rest</td>\n",
              "      <td>0</td>\n",
              "    </tr>\n",
              "    <tr>\n",
              "      <th>1</th>\n",
              "      <td>rest</td>\n",
              "      <td>0</td>\n",
              "    </tr>\n",
              "    <tr>\n",
              "      <th>2</th>\n",
              "      <td>rest</td>\n",
              "      <td>0</td>\n",
              "    </tr>\n",
              "    <tr>\n",
              "      <th>3</th>\n",
              "      <td>rest</td>\n",
              "      <td>0</td>\n",
              "    </tr>\n",
              "    <tr>\n",
              "      <th>4</th>\n",
              "      <td>rest</td>\n",
              "      <td>0</td>\n",
              "    </tr>\n",
              "    <tr>\n",
              "      <th>5</th>\n",
              "      <td>rest</td>\n",
              "      <td>0</td>\n",
              "    </tr>\n",
              "    <tr>\n",
              "      <th>6</th>\n",
              "      <td>scissors</td>\n",
              "      <td>0</td>\n",
              "    </tr>\n",
              "    <tr>\n",
              "      <th>7</th>\n",
              "      <td>scissors</td>\n",
              "      <td>0</td>\n",
              "    </tr>\n",
              "    <tr>\n",
              "      <th>8</th>\n",
              "      <td>scissors</td>\n",
              "      <td>0</td>\n",
              "    </tr>\n",
              "    <tr>\n",
              "      <th>9</th>\n",
              "      <td>scissors</td>\n",
              "      <td>0</td>\n",
              "    </tr>\n",
              "    <tr>\n",
              "      <th>10</th>\n",
              "      <td>scissors</td>\n",
              "      <td>0</td>\n",
              "    </tr>\n",
              "    <tr>\n",
              "      <th>11</th>\n",
              "      <td>scissors</td>\n",
              "      <td>0</td>\n",
              "    </tr>\n",
              "    <tr>\n",
              "      <th>12</th>\n",
              "      <td>scissors</td>\n",
              "      <td>0</td>\n",
              "    </tr>\n",
              "    <tr>\n",
              "      <th>13</th>\n",
              "      <td>scissors</td>\n",
              "      <td>0</td>\n",
              "    </tr>\n",
              "    <tr>\n",
              "      <th>14</th>\n",
              "      <td>scissors</td>\n",
              "      <td>0</td>\n",
              "    </tr>\n",
              "    <tr>\n",
              "      <th>15</th>\n",
              "      <td>rest</td>\n",
              "      <td>0</td>\n",
              "    </tr>\n",
              "    <tr>\n",
              "      <th>16</th>\n",
              "      <td>rest</td>\n",
              "      <td>0</td>\n",
              "    </tr>\n",
              "    <tr>\n",
              "      <th>17</th>\n",
              "      <td>rest</td>\n",
              "      <td>0</td>\n",
              "    </tr>\n",
              "    <tr>\n",
              "      <th>18</th>\n",
              "      <td>rest</td>\n",
              "      <td>0</td>\n",
              "    </tr>\n",
              "    <tr>\n",
              "      <th>19</th>\n",
              "      <td>rest</td>\n",
              "      <td>0</td>\n",
              "    </tr>\n",
              "  </tbody>\n",
              "</table>\n",
              "</div>\n",
              "      <button class=\"colab-df-convert\" onclick=\"convertToInteractive('df-0faeeec1-f215-4be8-bbc1-92e338d3c795')\"\n",
              "              title=\"Convert this dataframe to an interactive table.\"\n",
              "              style=\"display:none;\">\n",
              "        \n",
              "  <svg xmlns=\"http://www.w3.org/2000/svg\" height=\"24px\"viewBox=\"0 0 24 24\"\n",
              "       width=\"24px\">\n",
              "    <path d=\"M0 0h24v24H0V0z\" fill=\"none\"/>\n",
              "    <path d=\"M18.56 5.44l.94 2.06.94-2.06 2.06-.94-2.06-.94-.94-2.06-.94 2.06-2.06.94zm-11 1L8.5 8.5l.94-2.06 2.06-.94-2.06-.94L8.5 2.5l-.94 2.06-2.06.94zm10 10l.94 2.06.94-2.06 2.06-.94-2.06-.94-.94-2.06-.94 2.06-2.06.94z\"/><path d=\"M17.41 7.96l-1.37-1.37c-.4-.4-.92-.59-1.43-.59-.52 0-1.04.2-1.43.59L10.3 9.45l-7.72 7.72c-.78.78-.78 2.05 0 2.83L4 21.41c.39.39.9.59 1.41.59.51 0 1.02-.2 1.41-.59l7.78-7.78 2.81-2.81c.8-.78.8-2.07 0-2.86zM5.41 20L4 18.59l7.72-7.72 1.47 1.35L5.41 20z\"/>\n",
              "  </svg>\n",
              "      </button>\n",
              "      \n",
              "  <style>\n",
              "    .colab-df-container {\n",
              "      display:flex;\n",
              "      flex-wrap:wrap;\n",
              "      gap: 12px;\n",
              "    }\n",
              "\n",
              "    .colab-df-convert {\n",
              "      background-color: #E8F0FE;\n",
              "      border: none;\n",
              "      border-radius: 50%;\n",
              "      cursor: pointer;\n",
              "      display: none;\n",
              "      fill: #1967D2;\n",
              "      height: 32px;\n",
              "      padding: 0 0 0 0;\n",
              "      width: 32px;\n",
              "    }\n",
              "\n",
              "    .colab-df-convert:hover {\n",
              "      background-color: #E2EBFA;\n",
              "      box-shadow: 0px 1px 2px rgba(60, 64, 67, 0.3), 0px 1px 3px 1px rgba(60, 64, 67, 0.15);\n",
              "      fill: #174EA6;\n",
              "    }\n",
              "\n",
              "    [theme=dark] .colab-df-convert {\n",
              "      background-color: #3B4455;\n",
              "      fill: #D2E3FC;\n",
              "    }\n",
              "\n",
              "    [theme=dark] .colab-df-convert:hover {\n",
              "      background-color: #434B5C;\n",
              "      box-shadow: 0px 1px 3px 1px rgba(0, 0, 0, 0.15);\n",
              "      filter: drop-shadow(0px 1px 2px rgba(0, 0, 0, 0.3));\n",
              "      fill: #FFFFFF;\n",
              "    }\n",
              "  </style>\n",
              "\n",
              "      <script>\n",
              "        const buttonEl =\n",
              "          document.querySelector('#df-0faeeec1-f215-4be8-bbc1-92e338d3c795 button.colab-df-convert');\n",
              "        buttonEl.style.display =\n",
              "          google.colab.kernel.accessAllowed ? 'block' : 'none';\n",
              "\n",
              "        async function convertToInteractive(key) {\n",
              "          const element = document.querySelector('#df-0faeeec1-f215-4be8-bbc1-92e338d3c795');\n",
              "          const dataTable =\n",
              "            await google.colab.kernel.invokeFunction('convertToInteractive',\n",
              "                                                     [key], {});\n",
              "          if (!dataTable) return;\n",
              "\n",
              "          const docLinkHtml = 'Like what you see? Visit the ' +\n",
              "            '<a target=\"_blank\" href=https://colab.research.google.com/notebooks/data_table.ipynb>data table notebook</a>'\n",
              "            + ' to learn more about interactive tables.';\n",
              "          element.innerHTML = '';\n",
              "          dataTable['output_type'] = 'display_data';\n",
              "          await google.colab.output.renderOutput(dataTable, element);\n",
              "          const docLink = document.createElement('div');\n",
              "          docLink.innerHTML = docLinkHtml;\n",
              "          element.appendChild(docLink);\n",
              "        }\n",
              "      </script>\n",
              "    </div>\n",
              "  </div>\n",
              "  "
            ]
          },
          "metadata": {}
        }
      ]
    },
    {
      "cell_type": "code",
      "source": [],
      "metadata": {
        "id": "qDG8qGqkhWnl",
        "outputId": "babd9adb-dbe9-4157-a197-9c4d039c1b5d",
        "colab": {
          "base_uri": "https://localhost:8080/"
        }
      },
      "execution_count": 8,
      "outputs": [
        {
          "output_type": "execute_result",
          "data": {
            "text/plain": [
              "(1452, 2)"
            ]
          },
          "metadata": {},
          "execution_count": 8
        }
      ]
    },
    {
      "cell_type": "code",
      "execution_count": 39,
      "metadata": {
        "id": "4CiDuy5qW_mh"
      },
      "outputs": [],
      "source": [
        "y = behavioral.labels\n",
        "house_all = X[y == 'house']\n",
        "face_all = X[y == 'face']\n",
        "categories = y.unique()\n",
        "label = np.concatenate((np.zeros(12),np.ones(12)), axis = 0)\n",
        "label_str = np.concatenate([['face']*12 , ['house']*12], axis = 0)\n"
      ]
    },
    {
      "cell_type": "code",
      "execution_count": 19,
      "metadata": {
        "id": "wyZ6kt7NW_mh"
      },
      "outputs": [],
      "source": [
        "face=face_all[50:62,:]\n",
        "house=house_all[50:62,:]"
      ]
    },
    {
      "cell_type": "code",
      "execution_count": 22,
      "metadata": {
        "id": "Fmb1MblhW_mh",
        "outputId": "7669fae7-088b-42e1-a749-71ab8ab0c45f",
        "colab": {
          "base_uri": "https://localhost:8080/",
          "height": 279
        }
      },
      "outputs": [
        {
          "output_type": "display_data",
          "data": {
            "text/plain": [
              "<Figure size 432x288 with 1 Axes>"
            ],
            "image/png": "[encoded data removed]"
          },
          "metadata": {
            "needs_background": "light"
          }
        }
      ],
      "source": [
        "vox_num_1 = 250\n",
        "vox_num_2 = 300\n",
        "voxel_1 = np.concatenate((face[:,vox_num_1], house[:,vox_num_1]), axis = 0)\n",
        "voxel_2 = np.concatenate((face[:,vox_num_2], house[:,vox_num_2]), axis = 0)\n",
        "color = np.concatenate([['r']*12 , ['g']*12], axis = 0)\n",
        "plt.scatter(voxel_1, voxel_2, c=color , cmap= 'Set1')\n",
        "plt.xlabel(\"Voxel 1\")\n",
        "plt.ylabel(\"Voxel 2\")\n",
        "# Display the plot\n",
        "plt.show()"
      ]
    },
    {
      "cell_type": "code",
      "execution_count": 24,
      "metadata": {
        "id": "X6GgQxTTW_mi",
        "outputId": "7c32844b-2450-4ee0-8940-4e8dd6e08f2e",
        "colab": {
          "base_uri": "https://localhost:8080/",
          "height": 279
        }
      },
      "outputs": [
        {
          "output_type": "display_data",
          "data": {
            "text/plain": [
              "<Figure size 432x288 with 1 Axes>"
            ],
            "image/png": "[encoded data removed]"
          },
          "metadata": {
            "needs_background": "light"
          }
        }
      ],
      "source": [
        "observartion = 1\n",
        "data = np.stack([voxel_1 ,voxel_2 ], axis=1)\n",
        "test = data[observartion,:]\n",
        "color = np.concatenate([['r']*12 , ['g']*12], axis = 0)\n",
        "plt.scatter(voxel_1, voxel_2, c=color)#, cmap= 'Set1')\n",
        "plt.scatter(test[0], test[1], s=120,linewidths =2, facecolors='none', edgecolors='k')\n",
        "plt.xlabel(\"Voxel 1\")\n",
        "plt.ylabel(\"Voxel 2\")\n",
        "# Display the plot\n",
        "plt.show()\n"
      ]
    },
    {
      "cell_type": "markdown",
      "metadata": {
        "id": "3zNW0ItSW_mi"
      },
      "source": [
        "split data to train and test\n",
        "\n",
        "we want to split data to train and test. \n",
        "\n",
        "lets choose one point from the data for test variable"
      ]
    },
    {
      "cell_type": "code",
      "execution_count": 26,
      "metadata": {
        "id": "rKaA9jBcW_mi"
      },
      "outputs": [],
      "source": [
        "data = np.stack([voxel_1 ,voxel_2 ], axis=1)\n",
        "test_label = label[observartion]"
      ]
    },
    {
      "cell_type": "code",
      "execution_count": 27,
      "metadata": {
        "id": "7VZX2FONW_mi",
        "outputId": "700da1ee-d9a0-49ee-e84b-c97802fb5613",
        "colab": {
          "base_uri": "https://localhost:8080/"
        }
      },
      "outputs": [
        {
          "output_type": "execute_result",
          "data": {
            "text/plain": [
              "(23, 2)"
            ]
          },
          "metadata": {},
          "execution_count": 27
        }
      ],
      "source": [
        "# 1. Calculate distances\n",
        "train = np.delete(data,observartion, 0)\n",
        "train.shape"
      ]
    },
    {
      "cell_type": "code",
      "execution_count": 28,
      "metadata": {
        "id": "vA_B6nC2W_mj"
      },
      "outputs": [],
      "source": [
        "testMatrix = np.tile(test,(23,1))\n",
        "absDiff = np.abs(train - testMatrix)\n",
        "square = np.square(absDiff)\n",
        "distance =np.sum(square,1)\n",
        "distance = np.round(distance,2)\n"
      ]
    },
    {
      "cell_type": "code",
      "execution_count": 29,
      "metadata": {
        "id": "QmyrmZ6RW_mj",
        "outputId": "765d4f72-d584-4997-de05-fd691a4d0745",
        "colab": {
          "base_uri": "https://localhost:8080/"
        }
      },
      "outputs": [
        {
          "output_type": "stream",
          "name": "stdout",
          "text": [
            "Neighbour number 1 : face\n",
            "Neighbour number 2 : face\n",
            "Neighbour number 3 : house\n",
            "Neighbour number 4 : face\n",
            "Neighbour number 5 : face\n"
          ]
        },
        {
          "output_type": "execute_result",
          "data": {
            "text/plain": [
              "[None, None, None, None, None]"
            ]
          },
          "metadata": {},
          "execution_count": 29
        }
      ],
      "source": [
        "\n",
        "k = 5\n",
        "\n",
        "idx = np.argpartition(distance, k)\n",
        "neighborsInd = label_str[idx[:k]] \n",
        "\n",
        "[print( f'Neighbour number {i+1} : {label_}' ) for i, label_ in enumerate(label_str[idx[:k]])]\n"
      ]
    },
    {
      "cell_type": "code",
      "execution_count": 30,
      "metadata": {
        "id": "qgf_fIKmW_mj",
        "outputId": "93ac5311-29c4-4050-ae9f-6ada87f1b261",
        "colab": {
          "base_uri": "https://localhost:8080/"
        }
      },
      "outputs": [
        {
          "output_type": "stream",
          "name": "stdout",
          "text": [
            "Predict Label: Face\n"
          ]
        }
      ],
      "source": [
        "#print(distance)\n",
        "face_count = np.count_nonzero(neighborsInd == 'face')\n",
        "house_count = np.count_nonzero(neighborsInd == 'house')\n",
        "\n",
        "if face_count> house_count:\n",
        "    print(\"Predict Label: Face\")\n",
        "else:\n",
        "    print(\"Predict Label: House\")"
      ]
    },
    {
      "cell_type": "markdown",
      "metadata": {
        "id": "2dVGm4sPW_mj"
      },
      "source": [
        "#2. Find neighbours \n"
      ]
    },
    {
      "cell_type": "markdown",
      "metadata": {
        "id": "oIJ5XriIW_mj"
      },
      "source": [
        "Create a Model\n",
        "\n",
        "Preprocces"
      ]
    },
    {
      "cell_type": "code",
      "execution_count": 31,
      "metadata": {
        "id": "CnzKQHuUW_mj",
        "outputId": "9b1b3f42-8167-436c-b0a1-953757c39918",
        "colab": {
          "base_uri": "https://localhost:8080/"
        }
      },
      "outputs": [
        {
          "output_type": "stream",
          "name": "stderr",
          "text": [
            "/usr/local/lib/python3.7/dist-packages/nilearn/image/resampling.py:453: UserWarning: The provided image has no sform in its header. Please check the provided file. Results may not be as expected.\n",
            "  warnings.warn(\"The provided image has no sform in its header. \"\n"
          ]
        }
      ],
      "source": [
        "# mask the data\n",
        "from nilearn.input_data import NiftiMasker\n",
        "mask_filename = haxby_dataset.mask_vt[0]\n",
        "masker = NiftiMasker(mask_img=mask_filename, standardize=True, detrend=True)\n",
        "X = masker.fit_transform(func_file)\n",
        "\n",
        "# cognitive annotations\n",
        "import pandas as pd\n",
        "behavioral = pd.read_csv(haxby_dataset.session_target[0], delimiter=' ')\n",
        "y = behavioral['labels']"
      ]
    },
    {
      "cell_type": "code",
      "execution_count": 32,
      "metadata": {
        "id": "F29iwpavW_mk"
      },
      "outputs": [],
      "source": [
        "from sklearn.model_selection import train_test_split\n",
        "X_train, X_test, y_train, y_test = train_test_split(X, y, test_size = 0.2, random_state = 0)  "
      ]
    },
    {
      "cell_type": "code",
      "execution_count": 33,
      "metadata": {
        "id": "Chzxp4v6W_mk",
        "outputId": "dbf267f0-45de-47b5-80be-7570726f91c1",
        "colab": {
          "base_uri": "https://localhost:8080/"
        }
      },
      "outputs": [
        {
          "output_type": "execute_result",
          "data": {
            "text/plain": [
              "KNeighborsClassifier(algorithm='brute', n_neighbors=3, weights='distance')"
            ]
          },
          "metadata": {},
          "execution_count": 33
        }
      ],
      "source": [
        "from sklearn.neighbors import KNeighborsClassifier\n",
        "knn_model = KNeighborsClassifier(n_neighbors =3 , weights =  'distance' , algorithm = 'brute')\n",
        "\n",
        "knn_model.fit(X_train, y_train)\n"
      ]
    },
    {
      "cell_type": "code",
      "execution_count": 34,
      "metadata": {
        "id": "G1uHD4jSW_mk",
        "outputId": "2730ef23-aba8-4110-fbc4-ceefbefb82ef",
        "colab": {
          "base_uri": "https://localhost:8080/"
        }
      },
      "outputs": [
        {
          "output_type": "stream",
          "name": "stdout",
          "text": [
            "              precision    recall  f1-score   support\n",
            "\n",
            "      bottle       1.00      1.00      1.00        84\n",
            "         cat       1.00      1.00      1.00        89\n",
            "       chair       1.00      1.00      1.00        87\n",
            "        face       1.00      1.00      1.00        81\n",
            "       house       1.00      1.00      1.00        89\n",
            "        rest       1.00      1.00      1.00       471\n",
            "    scissors       1.00      1.00      1.00        87\n",
            "scrambledpix       1.00      1.00      1.00        85\n",
            "        shoe       1.00      1.00      1.00        88\n",
            "\n",
            "    accuracy                           1.00      1161\n",
            "   macro avg       1.00      1.00      1.00      1161\n",
            "weighted avg       1.00      1.00      1.00      1161\n",
            "\n"
          ]
        }
      ],
      "source": [
        "from sklearn.metrics import classification_report\n",
        "y_train_pred = knn_model.predict(X_train)\n",
        "print(classification_report(y_train, y_train_pred))"
      ]
    },
    {
      "cell_type": "code",
      "execution_count": 35,
      "metadata": {
        "id": "4wVPoMA5W_mk",
        "outputId": "b3fc1dc0-efe0-4816-bf3d-9540e8ffa9e9",
        "colab": {
          "base_uri": "https://localhost:8080/"
        }
      },
      "outputs": [
        {
          "output_type": "stream",
          "name": "stdout",
          "text": [
            "              precision    recall  f1-score   support\n",
            "\n",
            "      bottle       0.79      0.79      0.79        24\n",
            "         cat       0.83      0.79      0.81        19\n",
            "       chair       0.86      0.90      0.88        21\n",
            "        face       0.89      0.89      0.89        27\n",
            "       house       0.86      1.00      0.93        19\n",
            "        rest       0.92      0.84      0.88       117\n",
            "    scissors       0.91      0.95      0.93        21\n",
            "scrambledpix       0.81      0.91      0.86        23\n",
            "        shoe       0.83      1.00      0.91        20\n",
            "\n",
            "    accuracy                           0.88       291\n",
            "   macro avg       0.86      0.90      0.88       291\n",
            "weighted avg       0.88      0.88      0.88       291\n",
            "\n"
          ]
        }
      ],
      "source": [
        "y_test_pred = knn_model.predict(X_test)\n",
        "print(classification_report(y_test, y_test_pred))"
      ]
    },
    {
      "cell_type": "code",
      "execution_count": 36,
      "metadata": {
        "id": "rNiAyYewW_mk"
      },
      "outputs": [],
      "source": [
        "import sys\n",
        "import numpy as np\n",
        "from sklearn.metrics import confusion_matrix\n",
        "import seaborn as sn\n",
        "sys.path.append('../src')\n",
        "cm_svm = confusion_matrix(y_test, y_test_pred)\n",
        "model_conf_matrix = cm_svm.astype('float') / cm_svm.sum(axis = 1)[:, np.newaxis]\n",
        "\n"
      ]
    },
    {
      "cell_type": "code",
      "execution_count": 40,
      "metadata": {
        "id": "lUPuiQ3kW_ml",
        "outputId": "aa9014fa-6b21-44c9-87b4-6a523d2ec8ad",
        "colab": {
          "base_uri": "https://localhost:8080/",
          "height": 449
        }
      },
      "outputs": [
        {
          "output_type": "execute_result",
          "data": {
            "text/plain": [
              "<matplotlib.axes._subplots.AxesSubplot at 0x7efe3d9e3150>"
            ]
          },
          "metadata": {},
          "execution_count": 40
        },
        {
          "output_type": "display_data",
          "data": {
            "text/plain": [
              "<Figure size 720x504 with 2 Axes>"
            ],
            "image/png": "[encoded data removed]"
          },
          "metadata": {
            "needs_background": "light"
          }
        }
      ],
      "source": [
        "df_cm = pd.DataFrame(model_conf_matrix, index =categories,\n",
        "                  columns = categories)\n",
        "plt.figure(figsize = (10,7))\n",
        "sn.heatmap(df_cm, annot=True)"
      ]
    }
  ],
  "metadata": {
    "kernelspec": {
      "display_name": "Python 3.9.13 ('fmri-HIT')",
      "language": "python",
      "name": "python3"
    },
    "language_info": {
      "codemirror_mode": {
        "name": "ipython",
        "version": 3
      },
      "file_extension": ".py",
      "mimetype": "text/x-python",
      "name": "python",
      "nbconvert_exporter": "python",
      "pygments_lexer": "ipython3",
      "version": "3.9.13"
    },
    "orig_nbformat": 4,
    "vscode": {
      "interpreter": {
        "hash": "4bea02da7865370603680ffe2f59814b843f6fb702574abf1f9b894b258b2208"
      }
    },
    "colab": {
      "provenance": []
    }
  },
  "nbformat": 4,
  "nbformat_minor": 0
}