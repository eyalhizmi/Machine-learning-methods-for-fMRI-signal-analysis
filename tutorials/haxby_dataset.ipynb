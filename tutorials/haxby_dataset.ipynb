{
  "cells": [
    {
      "cell_type": "markdown",
      "source": [
        "# Tutorial 1 - Introducation to MRI and fMRI Images"
      ],
      "metadata": {
        "id": "Km38lVfGhUFc"
      }
    },
    {
      "cell_type": "code",
      "source": [
        "import warnings\n",
        "warnings.filterwarnings(\"ignore\")"
      ],
      "metadata": {
        "id": "f9-jWedVijj4"
      },
      "execution_count": null,
      "outputs": []
    },
    {
      "cell_type": "markdown",
      "source": [
        "we'll see how the Python library `nilearn` allows us to easily perform machine learning analyses with neuroimaging data,\n",
        "specifically MRI and fMRI.\n",
        "\n",
        "You may notice that the name `nilearn` is reminiscent of [`scikit-learn`](https://scikit-learn.org),\n",
        "a popular Python library for machine learning.\n",
        "This is no accident!\n",
        "Nilearn and scikit-learn were created by the same team,\n",
        "and nilearn is designed to bring machine **LEARN**ing to the NeuroImaging (**NI**) domain.\n",
        "\n",
        "Lets start by install it: using `pip` python comment for installing a new packages and `!` its the sign to move to Terminal mode in Colab."
      ],
      "metadata": {
        "id": "Rz9CFOmHi7Ki"
      }
    },
    {
      "cell_type": "code",
      "source": [
        "from IPython.display import clear_output\n",
        "!pip install nilearn\n",
        "clear_output()"
      ],
      "metadata": {
        "id": "juyObDQMIkR9"
      },
      "execution_count": null,
      "outputs": []
    },
    {
      "cell_type": "markdown",
      "source": [
        "## Dataset\n",
        "\n",
        "After we install `nilearn` let's go deeper.\n",
        "\n",
        "First we need a dataset.\n",
        "`nilearn` provide an entire module that called `nilearn.datasts` for fetching example data .\n",
        "\n",
        "In most of out tutorials we going to use **Haxby** dataset. \n",
        "\n",
        "Lets explain about him:\n",
        "\n",
        "Haxby is dataset a block-design fMRI dataset from a study on face and object representation in human ventral temporal cortex. It consists of 6 subjects with 12 runs per subject. In each run, the subjects passively viewed greyscale images of eight object categories, grouped in 24s blocks separated by rest periods. Each image was shown for 500ms and was followed by a 1500ms inter-stimulus interval. Full-brain fMRI data were recorded with a volume repetition time of 2.5s, thus, a stimulus block was covered by roughly 9 volumes.\n",
        "\n",
        "E"
      ],
      "metadata": {
        "id": "7jAuU1lVjduC"
      }
    },
    {
      "cell_type": "code",
      "source": [
        "from nilearn import datasets"
      ],
      "metadata": {
        "id": "QYXl2yEQHZS6"
      },
      "execution_count": null,
      "outputs": []
    },
    {
      "cell_type": "markdown",
      "source": [
        "For now we going to download a single subject with the stimulus and save it on */content* folder.\n",
        "\n",
        " This can be done using the `fetch_haxy` function from the datasets module."
      ],
      "metadata": {
        "id": "zKcHnwMoHbk7"
      }
    },
    {
      "cell_type": "code",
      "source": [
        "data = datasets.fetch_haxby(\n",
        "    data_dir=None,\n",
        "    subjects=1,\n",
        "    fetch_stimuli=False,\n",
        "    verbose=1\n",
        ")"
      ],
      "metadata": {
        "id": "8jt8NavWHafD"
      },
      "execution_count": null,
      "outputs": []
    },
    {
      "cell_type": "markdown",
      "source": [
        "The `fetch_haxby` function returns a dictionary with the location of the downloaded files and some metadata.\n",
        "\n",
        "Let’s inspect the \"description\" in more detail, which described the contents of the dictionary:"
      ],
      "metadata": {
        "id": "v56d29ASH20J"
      }
    },
    {
      "cell_type": "code",
      "source": [
        "print(data['description'])"
      ],
      "metadata": {
        "id": "0jxEivNhH71y"
      },
      "execution_count": null,
      "outputs": []
    },
    {
      "cell_type": "markdown",
      "source": [],
      "metadata": {
        "id": "qGMe3wWoH9FT"
      }
    },
    {
      "cell_type": "markdown",
      "source": [
        "## Visulation"
      ],
      "metadata": {
        "id": "jcTAUNVohwxC"
      }
    },
    {
      "cell_type": "code",
      "execution_count": null,
      "metadata": {
        "id": "B1G9hXLZIW1e"
      },
      "outputs": [],
      "source": [
        "import os\n",
        "from nilearn import datasets"
      ]
    },
    {
      "cell_type": "markdown",
      "source": [
        "Functional data consists of full 3D brain volumes that are sampled at multiple time points. Therefore you have a sequence of 3D brain volumes, stepping through sequences is stepping through time and therefore time is our 4th dimension! Here’s a visualization to make this concept more clear:"
      ],
      "metadata": {
        "id": "q9QgLVUjbmbW"
      }
    },
    {
      "cell_type": "markdown",
      "source": [
        "## Download Haxby dataset"
      ],
      "metadata": {
        "id": "LJe_DdckJ3rA"
      }
    },
    {
      "cell_type": "code",
      "source": [
        "#Let's inspect the \"description\" in more detail, which described the contents of the dictionary:\n",
        "data = datasets.fetch_haxby(\n",
        "    data_dir=None,\n",
        "    subjects=1,\n",
        "    fetch_stimuli=False,\n",
        "    verbose=1\n",
        ")\n",
        "print(data['description'])"
      ],
      "metadata": {
        "id": "0dd9usRzmfr2",
        "outputId": "36c2a488-02b1-4e98-a377-abe473902574",
        "colab": {
          "base_uri": "https://localhost:8080/"
        }
      },
      "execution_count": null,
      "outputs": [
        {
          "output_type": "stream",
          "name": "stdout",
          "text": [
            "Haxby 2001 results\n",
            "\n",
            "\n",
            "Notes\n",
            "-----\n",
            "Results from a classical fMRI study that investigated the differences between\n",
            "the neural correlates of face versus object processing in the ventral visual\n",
            "stream. Face and object stimuli showed widely distributed and overlapping\n",
            "response patterns.\n",
            "\n",
            "Content\n",
            "-------\n",
            "The \"simple\" dataset includes\n",
            "    :'func': Nifti images with bold data\n",
            "    :'session_target': Text file containing session data\n",
            "    :'mask': Nifti images with employed mask\n",
            "    :'session': Text file with condition labels\n",
            "\n",
            "\n",
            "The full dataset additionally includes\n",
            "    :'anat': Nifti images with anatomical image\n",
            "    :'func': Nifti images with bold data\n",
            "    :'mask_vt': Nifti images with mask for ventral visual/temporal cortex\n",
            "    :'mask_face': Nifti images with face-reponsive brain regions\n",
            "    :'mask_house': Nifti images with house-reponsive brain regions\n",
            "    :'mask_face_little': Spatially more constrained version of the above\n",
            "    :'mask_house_little': Spatially more constrained version of the above\n",
            "\n",
            "\n",
            "References\n",
            "----------\n",
            "For more information see:\n",
            "PyMVPA provides a tutorial using this dataset :\n",
            "http://www.pymvpa.org/tutorial.html\n",
            "\n",
            "More information about its structure :\n",
            "http://dev.pymvpa.org/datadb/haxby2001.html\n",
            "\n",
            "\n",
            "`Haxby, J., Gobbini, M., Furey, M., Ishai, A., Schouten, J.,\n",
            "and Pietrini, P. (2001). Distributed and overlapping representations of\n",
            "faces and objects in ventral temporal cortex. Science 293, 2425-2430.`\n",
            "\n",
            "\n",
            "Licence: unknown.\n",
            "\n"
          ]
        }
      ]
    },
    {
      "cell_type": "code",
      "execution_count": null,
      "metadata": {
        "id": "iD_T9HONIW1l",
        "outputId": "80edf4fd-17c7-4856-e88b-f1333ab0751b",
        "colab": {
          "base_uri": "https://localhost:8080/"
        }
      },
      "outputs": [
        {
          "output_type": "stream",
          "name": "stdout",
          "text": [
            "First subject anatomical nifti image (3D) is at: /root/nilearn_data/haxby2001/subj2/anat.nii.gz\n",
            "First subject functional nifti image (4D) is at: /root/nilearn_data/haxby2001/subj2/bold.nii.gz\n"
          ]
        }
      ],
      "source": [
        "from nilearn import datasets\n",
        "\n",
        "# haxby dataset to have EPI images and masks\n",
        "haxby_dataset = datasets.fetch_haxby()\n",
        "\n",
        "# print basic information on the dataset\n",
        "print('First subject anatomical nifti image (3D) is at: %s' %\n",
        "      haxby_dataset.anat[0])\n",
        "print('First subject functional nifti image (4D) is at: %s' %\n",
        "      haxby_dataset.func[0])  # 4D data\n",
        "\n",
        "haxby_anat_filename = haxby_dataset.anat[0]\n",
        "haxby_mask_filename = haxby_dataset.mask_vt[0]\n",
        "haxby_func_filename = haxby_dataset.func[0]"
      ]
    },
    {
      "cell_type": "code",
      "execution_count": null,
      "metadata": {
        "id": "fU0S3Jy1IW1m",
        "outputId": "f345e65f-1b4c-475d-da66-9c536db4f77f",
        "colab": {
          "base_uri": "https://localhost:8080/"
        }
      },
      "outputs": [
        {
          "output_type": "execute_result",
          "data": {
            "text/plain": [
              "dict_keys(['anat', 'func', 'session_target', 'mask_vt', 'mask_face', 'mask_house', 'mask_face_little', 'mask_house_little', 'mask', 'description'])"
            ]
          },
          "metadata": {},
          "execution_count": 6
        }
      ],
      "source": [
        "haxby_dataset.keys()"
      ]
    },
    {
      "cell_type": "code",
      "execution_count": null,
      "metadata": {
        "id": "Bzg8az-OIW1m"
      },
      "outputs": [],
      "source": [
        "from nilearn import plotting"
      ]
    },
    {
      "cell_type": "markdown",
      "source": [
        "In this notebook we’ll finally start working with functional MR data - the modality of interest in this workshop. First we’ll cover some basics about how the data is organized (similar to T1s but slightly more complex), and then how we can integrate our anatomical and functional data together using tools provided by nilearn"
      ],
      "metadata": {
        "id": "_9ygwemra-u9"
      }
    },
    {
      "cell_type": "markdown",
      "source": [
        "### Plotting statistical maps with function plot_stat_map"
      ],
      "metadata": {
        "id": "KMrqs7W6KLPN"
      }
    },
    {
      "cell_type": "code",
      "source": [
        "from nilearn.image.image import mean_img\n",
        "\n",
        "mean_haxby = mean_img(haxby_func_filename)"
      ],
      "metadata": {
        "id": "TMdTdb49Lg1g"
      },
      "execution_count": null,
      "outputs": []
    },
    {
      "cell_type": "code",
      "source": [
        "plotting."
      ],
      "metadata": {
        "id": "B64xT_cQOvfz",
        "colab": {
          "base_uri": "https://localhost:8080/",
          "height": 135
        },
        "outputId": "8029d16e-5955-4963-c11d-984ee890ed9a"
      },
      "execution_count": null,
      "outputs": [
        {
          "output_type": "error",
          "ename": "SyntaxError",
          "evalue": "ignored",
          "traceback": [
            "\u001b[0;36m  File \u001b[0;32m\"<ipython-input-9-f712cf013b2d>\"\u001b[0;36m, line \u001b[0;32m1\u001b[0m\n\u001b[0;31m    plotting.\u001b[0m\n\u001b[0m             ^\u001b[0m\n\u001b[0;31mSyntaxError\u001b[0m\u001b[0;31m:\u001b[0m invalid syntax\n"
          ]
        }
      ]
    },
    {
      "cell_type": "code",
      "source": [
        "plotting.plot_epi(mean_haxby ,bg_img= haxby_anat_filename ,colorbar=True, cbar_tick_format=\"%i\", cut_coords=[36, -27, 66])"
      ],
      "metadata": {
        "id": "pcqGFWWVKH7a"
      },
      "execution_count": null,
      "outputs": []
    },
    {
      "cell_type": "code",
      "source": [
        "plotting.view_img(mean_haxby,bg_img= haxby_anat_filename ,colorbar=True, cbar_tick_format=\"%i\",vmin=0)"
      ],
      "metadata": {
        "id": "aSbVEXblMH4r"
      },
      "execution_count": null,
      "outputs": []
    },
    {
      "cell_type": "code",
      "execution_count": null,
      "metadata": {
        "id": "2W-BdqO-IW1n"
      },
      "outputs": [],
      "source": [
        "mask_filename = haxby_dataset.mask_vt[0] \n",
        "# Let's visualize it, using the subject's anatomical image as a\n",
        "# background\n",
        "_ = plotting.plot_roi(mask_filename, bg_img=haxby_dataset.anat[0],\n",
        "                  cmap='Paired')"
      ]
    },
    {
      "cell_type": "code",
      "execution_count": null,
      "metadata": {
        "id": "x3DiTICqIW1n"
      },
      "outputs": [],
      "source": [
        "func_file = haxby_dataset.func[0]"
      ]
    },
    {
      "cell_type": "code",
      "execution_count": null,
      "metadata": {
        "id": "zHDoaqZyIW1o"
      },
      "outputs": [],
      "source": [
        "from nilearn.input_data import NiftiMasker\n",
        "masker = NiftiMasker(mask_img=mask_filename, standardize=True, detrend=True)\n",
        "# Selecting data\n",
        "X = masker.fit_transform(func_file)\n",
        "print(X.shape)"
      ]
    },
    {
      "cell_type": "markdown",
      "metadata": {
        "id": "kveF1w6kIW1p"
      },
      "source": [
        "We can see that the dataset has 1452 time samples (number of rows) and 675 voxels in the mask (number of columns)."
      ]
    },
    {
      "cell_type": "code",
      "execution_count": null,
      "metadata": {
        "id": "aEMAlIAeIW1p"
      },
      "outputs": [],
      "source": [
        "import pandas as pd\n",
        "behavioral = pd.read_csv(haxby_dataset.session_target[0], delimiter=' ')\n",
        "display(behavioral.iloc[0:20])"
      ]
    },
    {
      "cell_type": "code",
      "execution_count": null,
      "metadata": {
        "id": "V08z0xxwIW1q"
      },
      "outputs": [],
      "source": [
        "import matplotlib.pyplot as plt\n",
        "\n",
        "from nilearn import datasets\n",
        "from nilearn.plotting import show\n",
        "\n",
        "stimulus_information = haxby_dataset.stimuli\n",
        "\n",
        "for stim_type in stimulus_information:\n",
        "  # skip control images, there are too many\n",
        "  if stim_type != 'controls':\n",
        "\n",
        "     file_names = stimulus_information[stim_type]\n",
        "     file_names = file_names[0:16]\n",
        "     fig, axes = plt.subplots(4, 4)\n",
        "     fig.suptitle(stim_type)\n",
        "\n",
        "     for img_path, ax in zip(file_names, axes.ravel()):\n",
        "         ax.imshow(plt.imread(img_path), cmap=plt.cm.gray)\n",
        "\n",
        "     for ax in axes.ravel():\n",
        "         ax.axis(\"off\")\n",
        "\n",
        "show()"
      ]
    },
    {
      "cell_type": "code",
      "execution_count": null,
      "metadata": {
        "id": "j0K3FjM5IW1r"
      },
      "outputs": [],
      "source": [
        "for stim_num in range(len(stimulus_information['controls'])):\n",
        "    stim_type = stimulus_information['controls'][stim_num][0]\n",
        "    file_names = stimulus_information['controls'][stim_num][1]  \n",
        "    file_names = file_names[0:16]\n",
        "    fig, axes = plt.subplots(4, 4)\n",
        "    fig.suptitle(stim_type)\n",
        "\n",
        "    for img_path, ax in zip(file_names, axes.ravel()):\n",
        "     ax.imshow(plt.imread(img_path), cmap=plt.cm.gray)\n",
        "\n",
        "    for ax in axes.ravel():\n",
        "     ax.axis(\"off\")\n",
        "\n",
        "show()"
      ]
    }
  ],
  "metadata": {
    "kernelspec": {
      "display_name": "Python 3.9.13 ('fmri-HIT')",
      "language": "python",
      "name": "python3"
    },
    "language_info": {
      "codemirror_mode": {
        "name": "ipython",
        "version": 3
      },
      "file_extension": ".py",
      "mimetype": "text/x-python",
      "name": "python",
      "nbconvert_exporter": "python",
      "pygments_lexer": "ipython3",
      "version": "3.9.13"
    },
    "orig_nbformat": 4,
    "vscode": {
      "interpreter": {
        "hash": "4bea02da7865370603680ffe2f59814b843f6fb702574abf1f9b894b258b2208"
      }
    },
    "colab": {
      "provenance": []
    }
  },
  "nbformat": 4,
  "nbformat_minor": 0
}