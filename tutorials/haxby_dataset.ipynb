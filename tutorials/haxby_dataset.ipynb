{
  "cells": [
    {
      "cell_type": "code",
      "source": [
        "!pip install nilearn"
      ],
      "metadata": {
        "id": "juyObDQMIkR9",
        "outputId": "e2c4d255-8465-4285-996f-262819ad024f",
        "colab": {
          "base_uri": "https://localhost:8080/"
        }
      },
      "execution_count": 15,
      "outputs": [
        {
          "output_type": "stream",
          "name": "stdout",
          "text": [
            "Looking in indexes: https://pypi.org/simple, https://us-python.pkg.dev/colab-wheels/public/simple/\n",
            "Requirement already satisfied: nilearn in /usr/local/lib/python3.7/dist-packages (0.9.2)\n",
            "Requirement already satisfied: scikit-learn>=0.22 in /usr/local/lib/python3.7/dist-packages (from nilearn) (1.0.2)\n",
            "Requirement already satisfied: numpy>=1.18 in /usr/local/lib/python3.7/dist-packages (from nilearn) (1.21.6)\n",
            "Requirement already satisfied: nibabel>=3.0.0 in /usr/local/lib/python3.7/dist-packages (from nilearn) (3.0.2)\n",
            "Requirement already satisfied: scipy>=1.5 in /usr/local/lib/python3.7/dist-packages (from nilearn) (1.7.3)\n",
            "Requirement already satisfied: pandas>=1.0 in /usr/local/lib/python3.7/dist-packages (from nilearn) (1.3.5)\n",
            "Requirement already satisfied: lxml in /usr/local/lib/python3.7/dist-packages (from nilearn) (4.9.1)\n",
            "Requirement already satisfied: requests>=2 in /usr/local/lib/python3.7/dist-packages (from nilearn) (2.23.0)\n",
            "Requirement already satisfied: joblib>=0.15 in /usr/local/lib/python3.7/dist-packages (from nilearn) (1.1.0)\n",
            "Requirement already satisfied: python-dateutil>=2.7.3 in /usr/local/lib/python3.7/dist-packages (from pandas>=1.0->nilearn) (2.8.2)\n",
            "Requirement already satisfied: pytz>=2017.3 in /usr/local/lib/python3.7/dist-packages (from pandas>=1.0->nilearn) (2022.2.1)\n",
            "Requirement already satisfied: six>=1.5 in /usr/local/lib/python3.7/dist-packages (from python-dateutil>=2.7.3->pandas>=1.0->nilearn) (1.15.0)\n",
            "Requirement already satisfied: idna<3,>=2.5 in /usr/local/lib/python3.7/dist-packages (from requests>=2->nilearn) (2.10)\n",
            "Requirement already satisfied: certifi>=2017.4.17 in /usr/local/lib/python3.7/dist-packages (from requests>=2->nilearn) (2022.6.15)\n",
            "Requirement already satisfied: urllib3!=1.25.0,!=1.25.1,<1.26,>=1.21.1 in /usr/local/lib/python3.7/dist-packages (from requests>=2->nilearn) (1.24.3)\n",
            "Requirement already satisfied: chardet<4,>=3.0.2 in /usr/local/lib/python3.7/dist-packages (from requests>=2->nilearn) (3.0.4)\n",
            "Requirement already satisfied: threadpoolctl>=2.0.0 in /usr/local/lib/python3.7/dist-packages (from scikit-learn>=0.22->nilearn) (3.1.0)\n"
          ]
        }
      ]
    },
    {
      "cell_type": "code",
      "execution_count": null,
      "metadata": {
        "id": "B1G9hXLZIW1e"
      },
      "outputs": [],
      "source": [
        "import os\n",
        "from nilearn import datasets"
      ]
    },
    {
      "cell_type": "markdown",
      "metadata": {
        "id": "1dSyGOTvIW1j"
      },
      "source": [
        "data_dir = Path where data should be downloaded.\n",
        "subjects = \n",
        "fetch_stimuli = Indicate if stimuli images must be downloaded.\n"
      ]
    },
    {
      "cell_type": "code",
      "execution_count": null,
      "metadata": {
        "id": "iD_T9HONIW1l"
      },
      "outputs": [],
      "source": [
        "data_dir =  os.path.join('..', 'data')\n",
        "subject_number = 2 \n",
        "fetch_stimuli = True\n",
        "haxby_dataset = datasets.fetch_haxby(data_dir=data_dir, subjects=subject_number, fetch_stimuli=fetch_stimuli )"
      ]
    },
    {
      "cell_type": "code",
      "execution_count": null,
      "metadata": {
        "id": "fU0S3Jy1IW1m"
      },
      "outputs": [],
      "source": [
        "haxby_dataset.keys()"
      ]
    },
    {
      "cell_type": "code",
      "execution_count": null,
      "metadata": {
        "id": "Bzg8az-OIW1m"
      },
      "outputs": [],
      "source": [
        "from nilearn import plotting"
      ]
    },
    {
      "cell_type": "code",
      "execution_count": null,
      "metadata": {
        "id": "2W-BdqO-IW1n"
      },
      "outputs": [],
      "source": [
        "mask_filename = haxby_dataset.mask_vt[0]\n",
        "# Let's visualize it, using the subject's anatomical image as a\n",
        "# background\n",
        "_ = plotting.plot_roi(mask_filename, bg_img=haxby_dataset.anat[0],\n",
        "                  cmap='Paired')"
      ]
    },
    {
      "cell_type": "code",
      "execution_count": null,
      "metadata": {
        "id": "x3DiTICqIW1n"
      },
      "outputs": [],
      "source": [
        "func_file = haxby_dataset.func[0]"
      ]
    },
    {
      "cell_type": "code",
      "execution_count": null,
      "metadata": {
        "id": "zHDoaqZyIW1o"
      },
      "outputs": [],
      "source": [
        "from nilearn.input_data import NiftiMasker\n",
        "masker = NiftiMasker(mask_img=mask_filename, standardize=True, detrend=True)\n",
        "# Selecting data\n",
        "X = masker.fit_transform(func_file)\n",
        "print(X.shape)"
      ]
    },
    {
      "cell_type": "markdown",
      "metadata": {
        "id": "kveF1w6kIW1p"
      },
      "source": [
        "We can see that the dataset has 1452 time samples (number of rows) and 675 voxels in the mask (number of columns)."
      ]
    },
    {
      "cell_type": "code",
      "execution_count": null,
      "metadata": {
        "id": "aEMAlIAeIW1p"
      },
      "outputs": [],
      "source": [
        "import pandas as pd\n",
        "behavioral = pd.read_csv(haxby_dataset.session_target[0], delimiter=' ')\n",
        "display(behavioral.iloc[0:20])"
      ]
    },
    {
      "cell_type": "code",
      "execution_count": null,
      "metadata": {
        "id": "V08z0xxwIW1q"
      },
      "outputs": [],
      "source": [
        "import matplotlib.pyplot as plt\n",
        "\n",
        "from nilearn import datasets\n",
        "from nilearn.plotting import show\n",
        "\n",
        "stimulus_information = haxby_dataset.stimuli\n",
        "\n",
        "for stim_type in stimulus_information:\n",
        "  # skip control images, there are too many\n",
        "  if stim_type != 'controls':\n",
        "\n",
        "     file_names = stimulus_information[stim_type]\n",
        "     file_names = file_names[0:16]\n",
        "     fig, axes = plt.subplots(4, 4)\n",
        "     fig.suptitle(stim_type)\n",
        "\n",
        "     for img_path, ax in zip(file_names, axes.ravel()):\n",
        "         ax.imshow(plt.imread(img_path), cmap=plt.cm.gray)\n",
        "\n",
        "     for ax in axes.ravel():\n",
        "         ax.axis(\"off\")\n",
        "\n",
        "show()"
      ]
    },
    {
      "cell_type": "code",
      "execution_count": null,
      "metadata": {
        "id": "j0K3FjM5IW1r"
      },
      "outputs": [],
      "source": [
        "for stim_num in range(len(stimulus_information['controls'])):\n",
        "    stim_type = stimulus_information['controls'][stim_num][0]\n",
        "    file_names = stimulus_information['controls'][stim_num][1]  \n",
        "    file_names = file_names[0:16]\n",
        "    fig, axes = plt.subplots(4, 4)\n",
        "    fig.suptitle(stim_type)\n",
        "\n",
        "    for img_path, ax in zip(file_names, axes.ravel()):\n",
        "     ax.imshow(plt.imread(img_path), cmap=plt.cm.gray)\n",
        "\n",
        "    for ax in axes.ravel():\n",
        "     ax.axis(\"off\")\n",
        "\n",
        "show()"
      ]
    }
  ],
  "metadata": {
    "kernelspec": {
      "display_name": "Python 3.9.13 ('fmri-HIT')",
      "language": "python",
      "name": "python3"
    },
    "language_info": {
      "codemirror_mode": {
        "name": "ipython",
        "version": 3
      },
      "file_extension": ".py",
      "mimetype": "text/x-python",
      "name": "python",
      "nbconvert_exporter": "python",
      "pygments_lexer": "ipython3",
      "version": "3.9.13"
    },
    "orig_nbformat": 4,
    "vscode": {
      "interpreter": {
        "hash": "4bea02da7865370603680ffe2f59814b843f6fb702574abf1f9b894b258b2208"
      }
    },
    "colab": {
      "provenance": []
    }
  },
  "nbformat": 4,
  "nbformat_minor": 0
}