{
 "cells": [
  {
   "cell_type": "code",
   "execution_count": null,
   "metadata": {},
   "outputs": [],
   "source": [
    "import os\n",
    "from nilearn import datasets"
   ]
  },
  {
   "cell_type": "markdown",
   "metadata": {},
   "source": [
    "data_dir = Path where data should be downloaded.\n",
    "subjects = \n",
    "fetch_stimuli = Indicate if stimuli images must be downloaded.\n"
   ]
  },
  {
   "cell_type": "code",
   "execution_count": null,
   "metadata": {},
   "outputs": [],
   "source": [
    "data_dir =  os.path.join('..', 'data')\n",
    "subject_number = 2 \n",
    "fetch_stimuli = True\n",
    "haxby_dataset = datasets.fetch_haxby(data_dir=data_dir, subjects=subject_number, fetch_stimuli=fetch_stimuli )"
   ]
  },
  {
   "cell_type": "code",
   "execution_count": null,
   "metadata": {},
   "outputs": [],
   "source": [
    "haxby_dataset.keys()"
   ]
  },
  {
   "cell_type": "code",
   "execution_count": null,
   "metadata": {},
   "outputs": [],
   "source": [
    "from nilearn import plotting"
   ]
  },
  {
   "cell_type": "code",
   "execution_count": null,
   "metadata": {},
   "outputs": [],
   "source": [
    "mask_filename = haxby_dataset.mask_vt[0]\n",
    "# Let's visualize it, using the subject's anatomical image as a\n",
    "# background\n",
    "_ = plotting.plot_roi(mask_filename, bg_img=haxby_dataset.anat[0],\n",
    "                  cmap='Paired')"
   ]
  },
  {
   "cell_type": "code",
   "execution_count": null,
   "metadata": {},
   "outputs": [],
   "source": [
    "func_file = haxby_dataset.func[0]"
   ]
  },
  {
   "cell_type": "code",
   "execution_count": null,
   "metadata": {},
   "outputs": [],
   "source": [
    "from nilearn.input_data import NiftiMasker\n",
    "masker = NiftiMasker(mask_img=mask_filename, standardize=True, detrend=True)\n",
    "# Selecting data\n",
    "X = masker.fit_transform(func_file)\n",
    "print(X.shape)"
   ]
  },
  {
   "cell_type": "markdown",
   "metadata": {},
   "source": [
    "We can see that the dataset has 1452 time samples (number of rows) and 675 voxels in the mask (number of columns)."
   ]
  },
  {
   "cell_type": "code",
   "execution_count": null,
   "metadata": {},
   "outputs": [],
   "source": [
    "import pandas as pd\n",
    "behavioral = pd.read_csv(haxby_dataset.session_target[0], delimiter=' ')\n",
    "display(behavioral.iloc[0:20])"
   ]
  },
  {
   "cell_type": "code",
   "execution_count": null,
   "metadata": {},
   "outputs": [],
   "source": [
    "import matplotlib.pyplot as plt\n",
    "\n",
    "from nilearn import datasets\n",
    "from nilearn.plotting import show\n",
    "\n",
    "stimulus_information = haxby_dataset.stimuli\n",
    "\n",
    "for stim_type in stimulus_information:\n",
    "  # skip control images, there are too many\n",
    "  if stim_type != 'controls':\n",
    "\n",
    "     file_names = stimulus_information[stim_type]\n",
    "     file_names = file_names[0:16]\n",
    "     fig, axes = plt.subplots(4, 4)\n",
    "     fig.suptitle(stim_type)\n",
    "\n",
    "     for img_path, ax in zip(file_names, axes.ravel()):\n",
    "         ax.imshow(plt.imread(img_path), cmap=plt.cm.gray)\n",
    "\n",
    "     for ax in axes.ravel():\n",
    "         ax.axis(\"off\")\n",
    "\n",
    "show()"
   ]
  },
  {
   "cell_type": "code",
   "execution_count": null,
   "metadata": {},
   "outputs": [],
   "source": [
    "for stim_num in range(len(stimulus_information['controls'])):\n",
    "    stim_type = stimulus_information['controls'][stim_num][0]\n",
    "    file_names = stimulus_information['controls'][stim_num][1]  \n",
    "    file_names = file_names[0:16]\n",
    "    fig, axes = plt.subplots(4, 4)\n",
    "    fig.suptitle(stim_type)\n",
    "\n",
    "    for img_path, ax in zip(file_names, axes.ravel()):\n",
    "     ax.imshow(plt.imread(img_path), cmap=plt.cm.gray)\n",
    "\n",
    "    for ax in axes.ravel():\n",
    "     ax.axis(\"off\")\n",
    "\n",
    "show()"
   ]
  }
 ],
 "metadata": {
  "kernelspec": {
   "display_name": "Python 3.9.13 ('fmri-HIT')",
   "language": "python",
   "name": "python3"
  },
  "language_info": {
   "codemirror_mode": {
    "name": "ipython",
    "version": 3
   },
   "file_extension": ".py",
   "mimetype": "text/x-python",
   "name": "python",
   "nbconvert_exporter": "python",
   "pygments_lexer": "ipython3",
   "version": "3.9.13"
  },
  "orig_nbformat": 4,
  "vscode": {
   "interpreter": {
    "hash": "4bea02da7865370603680ffe2f59814b843f6fb702574abf1f9b894b258b2208"
   }
  }
 },
 "nbformat": 4,
 "nbformat_minor": 2
}
