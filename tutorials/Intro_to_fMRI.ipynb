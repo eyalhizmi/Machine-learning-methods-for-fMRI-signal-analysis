{
 "cells": [
  {
   "cell_type": "code",
   "execution_count": null,
   "metadata": {},
   "outputs": [],
   "source": []
  }
 ],
 "metadata": {
  "kernelspec": {
   "display_name": "Python 3.8.12 ('ml_neuro_course')",
   "language": "python",
   "name": "python3"
  },
  "language_info": {
   "name": "python",
   "version": "3.8.12"
  },
  "orig_nbformat": 4,
  "vscode": {
   "interpreter": {
    "hash": "32fba39ddaae8a20c85845c9b2b5cd90e5f6979ed953df49648d0942b6625290"
   }
  }
 },
 "nbformat": 4,
 "nbformat_minor": 2
}
